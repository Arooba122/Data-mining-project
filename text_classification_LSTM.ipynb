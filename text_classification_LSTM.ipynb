{
  "nbformat": 4,
  "nbformat_minor": 0,
  "metadata": {
    "colab": {
      "name": "text_classification_LSTM.ipynb",
      "provenance": [],
      "mount_file_id": "1KiR4OWPlN3hOJ9-CQ2dfXPhNLrY0NsJJ",
      "authorship_tag": "ABX9TyPb35R0+3ipeMH9NpDiuFYp",
      "include_colab_link": true
    },
    "kernelspec": {
      "name": "python3",
      "display_name": "Python 3"
    }
  },
  "cells": [
    {
      "cell_type": "markdown",
      "metadata": {
        "id": "view-in-github",
        "colab_type": "text"
      },
      "source": [
        "<a href=\"https://colab.research.google.com/github/Arooba122/Data-mining-project/blob/master/text_classification_LSTM.ipynb\" target=\"_parent\"><img src=\"https://colab.research.google.com/assets/colab-badge.svg\" alt=\"Open In Colab\"/></a>"
      ]
    },
    {
      "cell_type": "markdown",
      "metadata": {
        "id": "b3vFFVDb4Jyq",
        "colab_type": "text"
      },
      "source": [
        "**1) reading of training dataset and testing dtaset**"
      ]
    },
    {
      "cell_type": "code",
      "metadata": {
        "id": "MD0TnucI1-WT",
        "colab_type": "code",
        "colab": {}
      },
      "source": [
        "# specify the path for your drive where these dataset are located\n",
        "import pandas as pd\n",
        "data_train=pd.read_csv('/content/drive/My Drive/data_train.csv' , header=None )\n",
        "data_test=pd.read_csv('/content/drive/My Drive/data_test.csv' , header=None )"
      ],
      "execution_count": null,
      "outputs": []
    },
    {
      "cell_type": "markdown",
      "metadata": {
        "id": "sSWDFM2a5j32",
        "colab_type": "text"
      },
      "source": [
        "**2) importing all the libraries**"
      ]
    },
    {
      "cell_type": "code",
      "metadata": {
        "id": "GxM9KXsb2Txj",
        "colab_type": "code",
        "colab": {}
      },
      "source": [
        "import pandas as pd\n",
        "import numpy as np\n",
        "\n",
        "# text preprocessing\n",
        "from nltk.tokenize import word_tokenize\n",
        "import re\n",
        "\n",
        "# plots and metrics\n",
        "import matplotlib.pyplot as plt\n",
        "from sklearn.metrics import accuracy_score, f1_score, confusion_matrix\n",
        "\n",
        "# preparing input to our model\n",
        "from keras.preprocessing.text import Tokenizer\n",
        "from keras.preprocessing.sequence import pad_sequences\n",
        "from keras.utils import to_categorical\n",
        "\n",
        "# keras layers\n",
        "from keras.models import Sequential\n",
        "from keras.layers import Embedding, Bidirectional, LSTM, GRU, Dense"
      ],
      "execution_count": null,
      "outputs": []
    },
    {
      "cell_type": "code",
      "metadata": {
        "id": "ekczgPbf2Y8m",
        "colab_type": "code",
        "colab": {}
      },
      "source": [
        "# reyrieving the desired columns \n",
        "df_train=pd.DataFrame(data_train)\n",
        "df_test=pd.DataFrame(data_test)\n",
        "X_train = df_train.iloc[1:,1]\n",
        "X_test = df_test.iloc[1:,1]\n",
        "\n",
        "y_train =df_train.iloc[1:,0]\n",
        "y_test = df_test.iloc[1:,0]\n",
        "\n",
        "data = data_train.append(data_test, ignore_index=True)"
      ],
      "execution_count": null,
      "outputs": []
    },
    {
      "cell_type": "code",
      "metadata": {
        "id": "japvoyLH2dKD",
        "colab_type": "code",
        "colab": {}
      },
      "source": [
        "# Number of labels: joy, anger, fear, sadness, neutral\n",
        "num_classes = 5\n",
        "\n",
        "# Number of dimensions for word embedding\n",
        "embed_num_dims = 300\n",
        "\n",
        "# Max input length (max number of words) \n",
        "max_seq_len = 500\n",
        "\n",
        "class_names = ['joy', 'fear', 'anger', 'sadness', 'neutral']"
      ],
      "execution_count": null,
      "outputs": []
    },
    {
      "cell_type": "markdown",
      "metadata": {
        "id": "U1EQEQ5j58Bo",
        "colab_type": "text"
      },
      "source": [
        "**3) removal of hashtags and user names from dataset**"
      ]
    },
    {
      "cell_type": "code",
      "metadata": {
        "id": "nMbNi_v62h-F",
        "colab_type": "code",
        "colab": {}
      },
      "source": [
        "def clean_text(data):\n",
        "    \n",
        "    # remove hashtags and @usernames\n",
        "    data = re.sub(r\"(#[\\d\\w\\.]+)\", '', data)\n",
        "    data = re.sub(r\"(@[\\d\\w\\.]+)\", '', data)\n",
        "    \n",
        "    # tekenization using nltk\n",
        "    data = word_tokenize(data)\n",
        "    \n",
        "    return data"
      ],
      "execution_count": null,
      "outputs": []
    },
    {
      "cell_type": "code",
      "metadata": {
        "id": "4MALLZrM2rRJ",
        "colab_type": "code",
        "colab": {
          "base_uri": "https://localhost:8080/",
          "height": 51
        },
        "outputId": "1c24b984-6b0f-4781-cc3a-6089cdbd87b9"
      },
      "source": [
        "import nltk\n",
        "nltk.download('punkt')\n",
        "texts = [' '.join(clean_text(text)) for text in data[1]]\n",
        "\n",
        "texts_train = [' '.join(clean_text(text)) for text in X_train]\n",
        "texts_test = [' '.join(clean_text(text)) for text in X_test]"
      ],
      "execution_count": null,
      "outputs": [
        {
          "output_type": "stream",
          "text": [
            "[nltk_data] Downloading package punkt to /root/nltk_data...\n",
            "[nltk_data]   Unzipping tokenizers/punkt.zip.\n"
          ],
          "name": "stdout"
        }
      ]
    },
    {
      "cell_type": "markdown",
      "metadata": {
        "id": "d1IIL2e96XY3",
        "colab_type": "text"
      },
      "source": [
        "**4) sequencing of inputs in to fix length so that modal reieve same size of inputs**"
      ]
    },
    {
      "cell_type": "code",
      "metadata": {
        "id": "aWwJZcsV21c6",
        "colab_type": "code",
        "colab": {
          "base_uri": "https://localhost:8080/",
          "height": 34
        },
        "outputId": "9790a366-1dcf-41b0-b418-bff9b1a57a0d"
      },
      "source": [
        "tokenizer = Tokenizer()\n",
        "tokenizer.fit_on_texts(texts)\n",
        "\n",
        "sequence_train = tokenizer.texts_to_sequences(texts_train)\n",
        "sequence_test = tokenizer.texts_to_sequences(texts_test)\n",
        "\n",
        "index_of_words = tokenizer.word_index\n",
        "\n",
        "# vacab size is number of unique words + reserved 0 index for padding\n",
        "vocab_size = len(index_of_words) + 1\n",
        "\n",
        "print('Number of unique words: {}'.format(len(index_of_words)))"
      ],
      "execution_count": null,
      "outputs": [
        {
          "output_type": "stream",
          "text": [
            "Number of unique words: 12088\n"
          ],
          "name": "stdout"
        }
      ]
    },
    {
      "cell_type": "code",
      "metadata": {
        "id": "WI_gqkUb258l",
        "colab_type": "code",
        "colab": {}
      },
      "source": [
        "X_train_pad = pad_sequences(sequence_train, maxlen = max_seq_len )\n",
        "X_test_pad = pad_sequences(sequence_test, maxlen = max_seq_len )"
      ],
      "execution_count": null,
      "outputs": []
    },
    {
      "cell_type": "markdown",
      "metadata": {
        "id": "GGvfVrZy6-H0",
        "colab_type": "text"
      },
      "source": [
        "**5) prepration of output labels through encoding**"
      ]
    },
    {
      "cell_type": "code",
      "metadata": {
        "id": "QMUqvvAz29yQ",
        "colab_type": "code",
        "colab": {}
      },
      "source": [
        "encoding = {\n",
        "    'joy': 0,\n",
        "    'fear': 1,\n",
        "    'anger': 2,\n",
        "    'sadness': 3,\n",
        "    'neutral': 4\n",
        "}\n",
        "\n",
        "# Integer labels\n",
        "y_train = [encoding[x] for x in df_train.iloc[1:,0]]\n",
        "y_test = [encoding[x] for x in df_test.iloc[1:,0]]"
      ],
      "execution_count": null,
      "outputs": []
    },
    {
      "cell_type": "code",
      "metadata": {
        "id": "ypBaVCqY3CJR",
        "colab_type": "code",
        "colab": {}
      },
      "source": [
        "y_train = to_categorical(y_train)\n",
        "y_test = to_categorical(y_test)"
      ],
      "execution_count": null,
      "outputs": []
    },
    {
      "cell_type": "markdown",
      "metadata": {
        "id": "GKeMsBiM7N75",
        "colab_type": "text"
      },
      "source": [
        "**6) modal training and its calculation of accuracies**"
      ]
    },
    {
      "cell_type": "code",
      "metadata": {
        "id": "L7In4IM73Gfe",
        "colab_type": "code",
        "colab": {
          "base_uri": "https://localhost:8080/",
          "height": 377
        },
        "outputId": "675cd80d-7726-4177-fa5b-1c692ede4b48"
      },
      "source": [
        "from keras.layers import Dense, Embedding, LSTM, SpatialDropout1D\n",
        "from keras.models import Sequential\n",
        "from keras.callbacks import ModelCheckpoint, EarlyStopping\n",
        "model = Sequential()\n",
        "model.add(Embedding(vocab_size,embed_num_dims,input_length = max_seq_len))\n",
        "model.add(SpatialDropout1D(0.2))\n",
        "model.add(LSTM(64, dropout=0.2, recurrent_dropout=0.2))\n",
        "model.add(Dense(64,activation='relu'))\n",
        "model.add(Dense(num_classes, activation='softmax'))\n",
        "model.compile(loss='categorical_crossentropy', optimizer='adam', metrics=['accuracy'])\n",
        "\n",
        "epochs = 10\n",
        "batch_size = 64\n",
        "\n",
        "\n",
        "hist = model.fit(X_train_pad, y_train, \n",
        "                 batch_size=batch_size,\n",
        "                 epochs=epochs,\n",
        "                 validation_data=(X_test_pad,y_test))"
      ],
      "execution_count": null,
      "outputs": [
        {
          "output_type": "stream",
          "text": [
            "Epoch 1/10\n",
            "124/124 [==============================] - 226s 2s/step - loss: 1.3779 - accuracy: 0.3813 - val_loss: 1.2292 - val_accuracy: 0.5075\n",
            "Epoch 2/10\n",
            "124/124 [==============================] - 226s 2s/step - loss: 0.8464 - accuracy: 0.6940 - val_loss: 0.8391 - val_accuracy: 0.7003\n",
            "Epoch 3/10\n",
            "124/124 [==============================] - 230s 2s/step - loss: 0.4634 - accuracy: 0.8409 - val_loss: 0.8352 - val_accuracy: 0.7047\n",
            "Epoch 4/10\n",
            "124/124 [==============================] - 226s 2s/step - loss: 0.2961 - accuracy: 0.9060 - val_loss: 0.9248 - val_accuracy: 0.7047\n",
            "Epoch 5/10\n",
            "124/124 [==============================] - 227s 2s/step - loss: 0.2109 - accuracy: 0.9341 - val_loss: 1.0193 - val_accuracy: 0.7059\n",
            "Epoch 6/10\n",
            "124/124 [==============================] - 233s 2s/step - loss: 0.1653 - accuracy: 0.9524 - val_loss: 1.1817 - val_accuracy: 0.6888\n",
            "Epoch 7/10\n",
            "124/124 [==============================] - 228s 2s/step - loss: 0.1374 - accuracy: 0.9595 - val_loss: 1.1942 - val_accuracy: 0.6911\n",
            "Epoch 8/10\n",
            "124/124 [==============================] - 228s 2s/step - loss: 0.1197 - accuracy: 0.9636 - val_loss: 1.3494 - val_accuracy: 0.6844\n",
            "Epoch 9/10\n",
            "124/124 [==============================] - 227s 2s/step - loss: 0.1100 - accuracy: 0.9677 - val_loss: 1.3851 - val_accuracy: 0.6793\n",
            "Epoch 10/10\n",
            "124/124 [==============================] - 228s 2s/step - loss: 0.0978 - accuracy: 0.9724 - val_loss: 1.4456 - val_accuracy: 0.6755\n"
          ],
          "name": "stdout"
        }
      ]
    },
    {
      "cell_type": "code",
      "metadata": {
        "id": "Gu5IjQr-FxDd",
        "colab_type": "code",
        "colab": {
          "base_uri": "https://localhost:8080/",
          "height": 295
        },
        "outputId": "6fb3b243-4272-4638-eb77-5ad43457107e"
      },
      "source": [
        "#  \"Accuracy\"\n",
        "plt.plot(hist.history['accuracy'])\n",
        "plt.plot(hist.history['val_accuracy'])\n",
        "plt.title('model accuracy')\n",
        "plt.ylabel('accuracy')\n",
        "plt.xlabel('epoch')\n",
        "plt.legend(['train', 'validation'], loc='upper left')\n",
        "plt.show()\n"
      ],
      "execution_count": null,
      "outputs": [
        {
          "output_type": "display_data",
          "data": {
            "image/png": "[encoded data removed]",
            "text/plain": [
              "<Figure size 432x288 with 1 Axes>"
            ]
          },
          "metadata": {
            "tags": [],
            "needs_background": "light"
          }
        }
      ]
    },
    {
      "cell_type": "code",
      "metadata": {
        "id": "I_T6mwV5F0Ec",
        "colab_type": "code",
        "colab": {}
      },
      "source": [
        "predictions = model.predict(X_test_pad)\n",
        "predictions = np.argmax(predictions, axis=1)\n",
        "predictions = [class_names[pred] for pred in predictions]"
      ],
      "execution_count": null,
      "outputs": []
    },
    {
      "cell_type": "code",
      "metadata": {
        "id": "rlLfutjXF-eN",
        "colab_type": "code",
        "colab": {
          "base_uri": "https://localhost:8080/",
          "height": 68
        },
        "outputId": "6cbcd0ed-c773-4acc-c58e-47ab00d4b454"
      },
      "source": [
        "print(\"Accuracy: {:.2f}%\".format(accuracy_score(df_test.iloc[1:,0], predictions) * 100))\n",
        "print(\"\\nF1 Score: {:.2f}\".format(f1_score(df_test.iloc[1:,0], predictions, average='micro') * 100))\n"
      ],
      "execution_count": null,
      "outputs": [
        {
          "output_type": "stream",
          "text": [
            "Accuracy: 67.55%\n",
            "\n",
            "F1 Score: 67.55\n"
          ],
          "name": "stdout"
        }
      ]
    },
    {
      "cell_type": "code",
      "metadata": {
        "id": "PZVW6YKLGFQM",
        "colab_type": "code",
        "colab": {
          "base_uri": "https://localhost:8080/",
          "height": 51
        },
        "outputId": "e98003fb-0fc0-435b-fa0d-064128ebd3c2"
      },
      "source": [
        "import time\n",
        "\n",
        "message = [' i love you like a love song']\n",
        "\n",
        "seq = tokenizer.texts_to_sequences(message)\n",
        "padded = pad_sequences(seq, maxlen=max_seq_len)\n",
        "\n",
        "start_time = time.time()\n",
        "pred = model.predict(padded)\n",
        "\n",
        "print('Message: ' + str(message))\n",
        "print('predicted: {} ({:.2f} seconds)'.format(class_names[np.argmax(pred)], (time.time() - start_time)))"
      ],
      "execution_count": null,
      "outputs": [
        {
          "output_type": "stream",
          "text": [
            "Message: [' i love you like a love song']\n",
            "predicted: joy (0.09 seconds)\n"
          ],
          "name": "stdout"
        }
      ]
    },
    {
      "cell_type": "code",
      "metadata": {
        "id": "tfakyCB5GNQe",
        "colab_type": "code",
        "colab": {
          "base_uri": "https://localhost:8080/",
          "height": 68
        },
        "outputId": "8e0297b9-3d26-493c-9c8d-e6b3d90f9ebe"
      },
      "source": [
        "test_loss, test_acc = model.evaluate(X_test_pad,y_test)\n",
        "print('Test Loss: {}'.format(test_loss))\n",
        "print('Test Accuracy: {}'.format(test_acc))"
      ],
      "execution_count": null,
      "outputs": [
        {
          "output_type": "stream",
          "text": [
            "107/107 [==============================] - 13s 124ms/step - loss: 1.4456 - accuracy: 0.6755\n",
            "Test Loss: 1.445631504058838\n",
            "Test Accuracy: 0.6755083799362183\n"
          ],
          "name": "stdout"
        }
      ]
    },
    {
      "cell_type": "markdown",
      "metadata": {
        "id": "s1RTjsvI7aEV",
        "colab_type": "text"
      },
      "source": [
        "**7) saving my model in to drive**"
      ]
    },
    {
      "cell_type": "code",
      "metadata": {
        "id": "fsMlz5b3GWWS",
        "colab_type": "code",
        "colab": {}
      },
      "source": [
        "model.save('/content/drive/My Drive/Sentiment_Analysis_text_model/text_model_lstm.h5')"
      ],
      "execution_count": null,
      "outputs": []
    },
    {
      "cell_type": "markdown",
      "metadata": {
        "id": "vr4wDSKW7fJx",
        "colab_type": "text"
      },
      "source": [
        "**8) loading my model from drive**"
      ]
    },
    {
      "cell_type": "code",
      "metadata": {
        "id": "HrEcJK0zGgyW",
        "colab_type": "code",
        "colab": {}
      },
      "source": [
        "from keras.models import load_model\n",
        "modell = load_model('/content/drive/My Drive/Sentiment_Analysis_text_model/text_model_lstm.h5')"
      ],
      "execution_count": null,
      "outputs": []
    },
    {
      "cell_type": "markdown",
      "metadata": {
        "id": "33nCYOFP7lHc",
        "colab_type": "text"
      },
      "source": [
        "**9)srt fie reading and its converion in to text from and cleansing of its textual data**"
      ]
    },
    {
      "cell_type": "code",
      "metadata": {
        "id": "2nyM7GGyGym9",
        "colab_type": "code",
        "colab": {
          "base_uri": "https://localhost:8080/",
          "height": 122
        },
        "outputId": "e9f19c28-49a4-44f1-bdca-c3017df99a80"
      },
      "source": [
        "# retrieval of .srt file and its conversion in test\n",
        "file = open( \"/content/drive/My Drive/sample.srt\", \"r\")\n",
        "lines = file.readlines()\n",
        "print(lines)\n",
        "print(type(lines[1]))\n",
        "print(lines[1])\n",
        "file.close()\n",
        "import re\n",
        "\n",
        "text = ''\n",
        "for line in lines:\n",
        "    if re.search('^[0-9]+$', line) is None and re.search('^[0-9]{2}:[0-9]{2}:[0-9]{2}', line) is None and re.search('^$', line) is None:\n",
        "            text += ' ' + line.rstrip('\\n')\n",
        "    text = text.lstrip()\n",
        "print(text)"
      ],
      "execution_count": null,
      "outputs": [
        {
          "output_type": "stream",
          "text": [
            "['\\ufeff1\\n', '00:00:36,320 --> 00:00:40,799\\n', '<i>I believe we have a choice in this\\n', 'world about how to tell sad stories.</i>\\n', '\\n', '2\\n', '00:00:40,800 --> 00:00:43,639\\n', '<i>On the one hand,\\n', 'you can sugarcoat it.</i>\\n', '\\n', '3\\n', '00:00:43,640 --> 00:00:46,239\\n', '<i>The way they do in movies\\n', 'and romance novels...</i>\\n', '\\n', '4\\n', '00:00:46,240 --> 00:00:49,799\\n', '<i>where beautiful people\\n', 'learn beautiful lessons...</i>\\n', '\\n', '5\\n', '00:00:49,800 --> 00:00:52,079\\n', '<i>where nothing is too messed\\n', \"up that can't be fixed...</i>\\n\", '\\n', '6\\n', '00:00:52,080 --> 00:00:54,603\\n', '<i>with an apology\\n', 'and a Peter Gabriel song.</i>\\n', '\\n', '7\\n', '00:00:54,960 --> 00:00:57,319\\n', '<i>I like that version as much\\n', 'as the next girl does,</i>\\n', '\\n', '8\\n', '00:00:57,320 --> 00:00:59,081\\n', '<i>believe me.</i>\\n', '\\n', '9\\n', '00:00:59,600 --> 00:01:01,929\\n', \"<i>It's just not the truth.</i>\\n\", '\\n', '10\\n', '00:01:02,680 --> 00:01:04,406\\n', '<i>This is the truth.</i>\\n', '\\n', '11\\n', '00:01:05,360 --> 00:01:06,961\\n', '<i>Sorry.</i>\\n', '\\n', '12\\n', '00:01:13,120 --> 00:01:16,200\\n', '<i>Late in the winter\\n', 'of my seventeenth year...</i>\\n', '\\n', '13\\n', '00:01:16,360 --> 00:01:18,759\\n', '<i>my mother decided\\n', 'that I was depressed.</i>\\n', '\\n', '14\\n', '00:01:20,520 --> 00:01:23,319\\n', 'She just eats like a bird,\\n', 'she barely leaves the house.\\n', '\\n', '15\\n', '00:01:23,320 --> 00:01:24,999\\n', 'I am not depressed, Mom.\\n', '\\n', '16\\n', '00:01:25,000 --> 00:01:26,839\\n', \"She's reading the same\\n\", 'book over and over.\\n', '\\n', '17\\n', '00:01:26,840 --> 00:01:27,999\\n', \"She's depressed.\\n\", '\\n', '18\\n', '00:01:28,000 --> 00:01:29,559\\n', \"I'm not depressed.\\n\", '\\n', '19\\n', '00:01:29,560 --> 00:01:32,039\\n', '<i>The booklets and the websites\\n', 'always list depression as</i>\\n', '\\n', '20\\n', '00:01:32,040 --> 00:01:33,399\\n', '<i>a side effect of cancer.</i>']\n",
            "<class 'str'>\n",
            "00:00:36,320 --> 00:00:40,799\n",
            "\n",
            "﻿1 <i>I believe we have a choice in this world about how to tell sad stories.</i> <i>On the one hand, you can sugarcoat it.</i> <i>The way they do in movies and romance novels...</i> <i>where beautiful people learn beautiful lessons...</i> <i>where nothing is too messed up that can't be fixed...</i> <i>with an apology and a Peter Gabriel song.</i> <i>I like that version as much as the next girl does,</i> <i>believe me.</i> <i>It's just not the truth.</i> <i>This is the truth.</i> <i>Sorry.</i> <i>Late in the winter of my seventeenth year...</i> <i>my mother decided that I was depressed.</i> She just eats like a bird, she barely leaves the house. I am not depressed, Mom. She's reading the same book over and over. She's depressed. I'm not depressed. <i>The booklets and the websites always list depression as</i> <i>a side effect of cancer.</i>\n"
          ],
          "name": "stdout"
        }
      ]
    },
    {
      "cell_type": "code",
      "metadata": {
        "id": "OB_SAyAkG81e",
        "colab_type": "code",
        "colab": {
          "base_uri": "https://localhost:8080/",
          "height": 51
        },
        "outputId": "99bbb8b2-5a9a-4c1c-b114-c56c352e2cac"
      },
      "source": [
        "print(len(text))\n",
        "print(type(text))\n",
        "text=text.split('.')"
      ],
      "execution_count": null,
      "outputs": [
        {
          "output_type": "stream",
          "text": [
            "852\n",
            "<class 'str'>\n"
          ],
          "name": "stdout"
        }
      ]
    },
    {
      "cell_type": "code",
      "metadata": {
        "id": "0ckWclPyHCA0",
        "colab_type": "code",
        "colab": {
          "base_uri": "https://localhost:8080/",
          "height": 88
        },
        "outputId": "30913574-ec9a-4fa6-9c16-2db3658a08e3"
      },
      "source": [
        "print(len(text))\n",
        "print(text)\n",
        "\n",
        "print(text[1])\n",
        "text_1=[]\n",
        "for i in range(len(text)):\n",
        "\n",
        "   li = list(text[i].split(\" \"))\n",
        "   text_1.append(li)"
      ],
      "execution_count": null,
      "outputs": [
        {
          "output_type": "stream",
          "text": [
            "27\n",
            "['\\ufeff1 <i>I believe we have a choice in this world about how to tell sad stories', '</i> <i>On the one hand, you can sugarcoat it', '</i> <i>The way they do in movies and romance novels', '', '', '</i> <i>where beautiful people learn beautiful lessons', '', '', \"</i> <i>where nothing is too messed up that can't be fixed\", '', '', '</i> <i>with an apology and a Peter Gabriel song', '</i> <i>I like that version as much as the next girl does,</i> <i>believe me', \"</i> <i>It's just not the truth\", '</i> <i>This is the truth', '</i> <i>Sorry', '</i> <i>Late in the winter of my seventeenth year', '', '', '</i> <i>my mother decided that I was depressed', '</i> She just eats like a bird, she barely leaves the house', ' I am not depressed, Mom', \" She's reading the same book over and over\", \" She's depressed\", \" I'm not depressed\", ' <i>The booklets and the websites always list depression as</i> <i>a side effect of cancer', '</i>']\n",
            "</i> <i>On the one hand, you can sugarcoat it\n"
          ],
          "name": "stdout"
        }
      ]
    },
    {
      "cell_type": "code",
      "metadata": {
        "id": "NQ4T5p7hHNZh",
        "colab_type": "code",
        "colab": {
          "base_uri": "https://localhost:8080/",
          "height": 34
        },
        "outputId": "b0daeade-ca6d-44e1-86fc-8d590df6960a"
      },
      "source": [
        "print(text_1[1])"
      ],
      "execution_count": null,
      "outputs": [
        {
          "output_type": "stream",
          "text": [
            "['</i>', '<i>On', 'the', 'one', 'hand,', 'you', 'can', 'sugarcoat', 'it']\n"
          ],
          "name": "stdout"
        }
      ]
    },
    {
      "cell_type": "code",
      "metadata": {
        "id": "jWRQf85uHTjv",
        "colab_type": "code",
        "colab": {
          "base_uri": "https://localhost:8080/",
          "height": 119
        },
        "outputId": "0b6699f9-6dea-4714-8b92-5446003c905e"
      },
      "source": [
        "# removal of stop words from sentiments..\n",
        "import nltk\n",
        "import numpy\n",
        "nltk.download('punkt')\n",
        "nltk.download('wordnet')\n",
        "from nltk.corpus import stopwords \n",
        "from nltk.tokenize import sent_tokenize, word_tokenize\n",
        "nltk.download('stopwords')\n",
        "# from nltk.corpus import stopwords\n",
        "from nltk.tokenize import word_tokenize\n",
        "stop_words = set(stopwords.words('english'))\n",
        "removed=[]\n",
        "#text=c[0][0]\n",
        "# c=content.str.split(\" \")\n",
        "for i in range (len(text_1)):\n",
        "  for j in range (len(text_1[i])):\n",
        "\n",
        "\n",
        "     x=\" \"\n",
        "     text2= [w for w in text_1[i] if not w in stop_words]\n",
        "#     for w in c[i]: \n",
        "  removed.append(text2)"
      ],
      "execution_count": null,
      "outputs": [
        {
          "output_type": "stream",
          "text": [
            "[nltk_data] Downloading package punkt to /root/nltk_data...\n",
            "[nltk_data]   Package punkt is already up-to-date!\n",
            "[nltk_data] Downloading package wordnet to /root/nltk_data...\n",
            "[nltk_data]   Unzipping corpora/wordnet.zip.\n",
            "[nltk_data] Downloading package stopwords to /root/nltk_data...\n",
            "[nltk_data]   Unzipping corpora/stopwords.zip.\n"
          ],
          "name": "stdout"
        }
      ]
    },
    {
      "cell_type": "code",
      "metadata": {
        "id": "Otq2gIQiHZGs",
        "colab_type": "code",
        "colab": {
          "base_uri": "https://localhost:8080/",
          "height": 68
        },
        "outputId": "4644d124-7ced-4d5d-9c40-6d8c77d2f781"
      },
      "source": [
        "#removal of special characters and spaces from the content \n",
        "# stamming is also performed here\n",
        "re=[]\n",
        "from nltk.stem import PorterStemmer\n",
        "nltk.download('averaged_perceptron_tagger')\n",
        "porter = PorterStemmer()\n",
        "for i in range(len(removed)):\n",
        "  \n",
        "      \n",
        "    files = removed[i]\n",
        "    result = [\"\".join(list(filter(str.isalnum, line))) for line in files]\n",
        "    result = list(filter(str.strip, result))\n",
        "    # for r in range (len(result)):\n",
        "    #    result[r]=porter.stem(result[r])\n",
        "  # result=nltk.pos_tag(result)\n",
        "    re.append(result)\n",
        "# print(re)"
      ],
      "execution_count": null,
      "outputs": [
        {
          "output_type": "stream",
          "text": [
            "[nltk_data] Downloading package averaged_perceptron_tagger to\n",
            "[nltk_data]     /root/nltk_data...\n",
            "[nltk_data]   Unzipping taggers/averaged_perceptron_tagger.zip.\n"
          ],
          "name": "stdout"
        }
      ]
    },
    {
      "cell_type": "code",
      "metadata": {
        "id": "t3bjO0ISHe_x",
        "colab_type": "code",
        "colab": {}
      },
      "source": [
        "#removal of empty lists from list ..\n",
        "list_text = [x for x in re if x]"
      ],
      "execution_count": null,
      "outputs": []
    },
    {
      "cell_type": "code",
      "metadata": {
        "id": "pYTyidrOHjsx",
        "colab_type": "code",
        "colab": {}
      },
      "source": [
        "# post tagging application\n",
        "import nltk\n",
        "from nltk import word_tokenize, pos_tag\n",
        "from nltk.corpus import wordnet\n",
        "\n",
        "from IPython.display import display\n",
        "\n",
        "lemmatizer = nltk.WordNetLemmatizer()\n",
        "\n",
        "#word tokenizeing and part-of-speech tagger\n",
        "\n",
        "\n",
        "# Rule for NP chunk and VB Chunk\n",
        "grammar = r\"\"\"\n",
        "    NBAR:\n",
        "        {<NN.*|JJ>*<NN.*>}  # Nouns and Adjectives, terminated with Nouns\n",
        "        {<RB.?>*<VB.?>*<JJ>*<VB.?>+<VB>?} # Verbs and Verb Phrases\n",
        "        \n",
        "    NP:\n",
        "        {<NBAR>}\n",
        "        {<NBAR><IN><NBAR>}  # Above, connected with in/of/etc...\n",
        "        \n",
        "\"\"\"\n",
        "#Chunking\n",
        "cp = nltk.RegexpParser(grammar)\n",
        "\n",
        "def leaves(tree):\n",
        "    \"\"\"Finds NP (nounphrase) leaf nodes of a chunk tree.\"\"\"\n",
        "    for subtree in tree.subtrees(filter = lambda t: t.label() =='NP'):\n",
        "        yield subtree.leaves()\n",
        "        \n",
        "def get_word_postag(word):\n",
        "    if pos_tag([word])[0][1].startswith('J'):\n",
        "        return wordnet.ADJ\n",
        "    if pos_tag([word])[0][1].startswith('V'):\n",
        "        return wordnet.VERB\n",
        "    if pos_tag([word])[0][1].startswith('N'):\n",
        "        return wordnet.NOUN\n",
        "    else:\n",
        "        return wordnet.NOUN\n",
        "    \n",
        "def normalise(word):\n",
        "    \"\"\"Normalises words to lowercase and stems and lemmatizes it.\"\"\"\n",
        "    word = word.lower()\n",
        "    postag = get_word_postag(word)\n",
        "    word = lemmatizer.lemmatize(word,postag)\n",
        "    return word\n",
        "\n",
        "def get_terms(tree):    \n",
        "    for leaf in leaves(tree):\n",
        "        terms = [normalise(w) for w,t in leaf]\n",
        "        yield terms\n"
      ],
      "execution_count": null,
      "outputs": []
    },
    {
      "cell_type": "code",
      "metadata": {
        "id": "8aJSdVoyHpmL",
        "colab_type": "code",
        "colab": {
          "base_uri": "https://localhost:8080/",
          "height": 190
        },
        "outputId": "0347aafe-5cc4-4149-ac67-cb694a92dabc"
      },
      "source": [
        "import nltk\n",
        "nltk.download('punkt')\n",
        "nltk.download('averaged_perceptron_tagger')\n",
        "nltk.download('wordnet')\n",
        "xyz=[['iI believe choice world tell sad stories'],['i iwhere nothing messed cant fixed']]\n",
        "text_predicted=[]\n",
        "for i in range (len(list_text)):\n",
        "  s = list_text[i]\n",
        "  listToStr = ' '.join([str(elem) for elem in s])\n",
        "\n",
        "  document = listToStr\n",
        "  tokens = [nltk.word_tokenize(sent) for sent in [document]]\n",
        "  postag = [nltk.pos_tag(sent) for sent in tokens][0]\n",
        "\n",
        "\n",
        "# the result is a tree\n",
        "  tree = cp.parse(postag)\n",
        "  terms = get_terms(tree)\n",
        "\n",
        "  features = []\n",
        "  for term in terms:\n",
        "      _term = ''\n",
        "      for word in term:\n",
        "          _term += ' ' + word\n",
        "      features.append(_term.strip())\n",
        "  text_predicted.append(features)\n",
        "print(text_predicted)"
      ],
      "execution_count": null,
      "outputs": [
        {
          "output_type": "stream",
          "text": [
            "[nltk_data] Downloading package punkt to /root/nltk_data...\n",
            "[nltk_data]   Package punkt is already up-to-date!\n",
            "[nltk_data] Downloading package averaged_perceptron_tagger to\n",
            "[nltk_data]     /root/nltk_data...\n",
            "[nltk_data]   Package averaged_perceptron_tagger is already up-to-\n",
            "[nltk_data]       date!\n",
            "[nltk_data] Downloading package wordnet to /root/nltk_data...\n",
            "[nltk_data]   Package wordnet is already up-to-date!\n",
            "[['ii believe choice world', 'tell', 'sad story'], ['i ion', 'hand sugarcoat'], ['i', 'ithe', 'way movie romance novel'], ['i', 'beautiful people', 'learn', 'beautiful lesson'], ['i', 'nothing', 'mess', 'cant', 'fix'], ['i', 'iwith', 'apology peter gabriel song'], ['i ii', 'version', 'next girl doesi', 'ibelieve'], ['i iits', 'truth'], ['i', 'ithis', 'truth'], ['i', 'isorry'], ['i', 'ilate', 'winter seventeenth year'], ['i imy', 'mother', 'decide', 'depressed'], ['i', 'eats', 'bird', 'barely leaf', 'house'], ['depressed', 'mom'], ['shes', 'reading', 'book'], ['shes', 'depressed'], ['im', 'depressed'], ['ithe booklet', 'website', 'list depression asi ia side effect cancer'], ['i']]\n"
          ],
          "name": "stdout"
        }
      ]
    },
    {
      "cell_type": "markdown",
      "metadata": {
        "id": "8e03Gzpa78H8",
        "colab_type": "text"
      },
      "source": [
        "**10) sentiment analysis performed on srt fiile **"
      ]
    },
    {
      "cell_type": "code",
      "metadata": {
        "id": "ZZc_rflyHveo",
        "colab_type": "code",
        "colab": {
          "base_uri": "https://localhost:8080/",
          "height": 700
        },
        "outputId": "d49464b9-d5e8-433c-c6f8-3aa7fcd39eac"
      },
      "source": [
        "import time\n",
        "array_emotions=[]\n",
        "for p in range(len(text_predicted)):\n",
        "\n",
        "   s = text_predicted[p] \n",
        "   listToStr = ' '.join([str(elem) for elem in s])\n",
        "\n",
        "   listToStr = ' '.join([str(elem) for elem in s])\n",
        "   message = [listToStr]\n",
        "    # print(type(message))\n",
        "    # print(message)\n",
        "   seq = tokenizer.texts_to_sequences(message)\n",
        "   padded = pad_sequences(seq, maxlen=max_seq_len)\n",
        "   start_time = time.time()\n",
        "   pred = modell.predict(padded)\n",
        "\n",
        "   print('Message: ' + str(message))\n",
        "   print('predicted: {} ({:.2f} seconds)'.format(class_names[np.argmax(pred)], (time.time() - start_time)))\n",
        "   v=np.argmax(pred)\n",
        "\n",
        "   z=class_names[v]\n",
        "   array_emotions.append(z)\n",
        "print(array_emotions)"
      ],
      "execution_count": null,
      "outputs": [
        {
          "output_type": "stream",
          "text": [
            "Message: ['ii believe choice world tell sad story']\n",
            "predicted: sadness (0.60 seconds)\n",
            "Message: ['i ion hand sugarcoat']\n",
            "predicted: neutral (0.09 seconds)\n",
            "Message: ['i ithe way movie romance novel']\n",
            "predicted: fear (0.09 seconds)\n",
            "Message: ['i beautiful people learn beautiful lesson']\n",
            "predicted: fear (0.09 seconds)\n",
            "Message: ['i nothing mess cant fix']\n",
            "predicted: anger (0.09 seconds)\n",
            "Message: ['i iwith apology peter gabriel song']\n",
            "predicted: sadness (0.09 seconds)\n",
            "Message: ['i ii version next girl doesi ibelieve']\n",
            "predicted: anger (0.09 seconds)\n",
            "Message: ['i iits truth']\n",
            "predicted: neutral (0.09 seconds)\n",
            "Message: ['i ithis truth']\n",
            "predicted: neutral (0.09 seconds)\n",
            "Message: ['i isorry']\n",
            "predicted: neutral (0.09 seconds)\n",
            "Message: ['i ilate winter seventeenth year']\n",
            "predicted: joy (0.08 seconds)\n",
            "Message: ['i imy mother decide depressed']\n",
            "predicted: sadness (0.09 seconds)\n",
            "Message: ['i eats bird barely leaf house']\n",
            "predicted: joy (0.09 seconds)\n",
            "Message: ['depressed mom']\n",
            "predicted: sadness (0.09 seconds)\n",
            "Message: ['shes reading book']\n",
            "predicted: neutral (0.08 seconds)\n",
            "Message: ['shes depressed']\n",
            "predicted: sadness (0.09 seconds)\n",
            "Message: ['im depressed']\n",
            "predicted: sadness (0.11 seconds)\n",
            "Message: ['ithe booklet website list depression asi ia side effect cancer']\n",
            "predicted: joy (0.08 seconds)\n",
            "Message: ['i']\n",
            "predicted: neutral (0.09 seconds)\n",
            "['sadness', 'neutral', 'fear', 'fear', 'anger', 'sadness', 'anger', 'neutral', 'neutral', 'neutral', 'joy', 'sadness', 'joy', 'sadness', 'neutral', 'sadness', 'sadness', 'joy', 'neutral']\n"
          ],
          "name": "stdout"
        }
      ]
    },
    {
      "cell_type": "markdown",
      "metadata": {
        "id": "k_GjQ4Mk8ElO",
        "colab_type": "text"
      },
      "source": [
        "**11) visula represntation of how many perecent of each sentiment is there in srt file**"
      ]
    },
    {
      "cell_type": "code",
      "metadata": {
        "id": "NSUKgeU6H8Ux",
        "colab_type": "code",
        "colab": {
          "base_uri": "https://localhost:8080/",
          "height": 102
        },
        "outputId": "d77dd6e1-68c0-4b60-ca52-c3a94d73fcc5"
      },
      "source": [
        "\n",
        "joy_c=array_emotions.count(\"joy\")\n",
        "print(joy_c)\n",
        "neutral_c=array_emotions.count(\"neutral\")\n",
        "print(neutral_c)\n",
        "sad_c=array_emotions.count(\"sadness\")\n",
        "print(sad_c)\n",
        "angry_c=array_emotions.count(\"anger\")\n",
        "print(angry_c)\n",
        "fear_c=array_emotions.count(\"fear\")\n",
        "print(fear_c)"
      ],
      "execution_count": null,
      "outputs": [
        {
          "output_type": "stream",
          "text": [
            "3\n",
            "6\n",
            "6\n",
            "2\n",
            "2\n"
          ],
          "name": "stdout"
        }
      ]
    },
    {
      "cell_type": "code",
      "metadata": {
        "id": "S6TmyaP_ICR8",
        "colab_type": "code",
        "colab": {
          "base_uri": "https://localhost:8080/",
          "height": 264
        },
        "outputId": "1fc3b50d-39a2-4c35-e51b-9812c8989c63"
      },
      "source": [
        "import matplotlib.pyplot as plt\n",
        "from pylab import figure, axes, pie, title, show\n",
        "from google.colab import files as fl\n",
        "# Data to plot\n",
        "labels = 'joy', 'neutral', 'sadness', 'anger','fear'\n",
        "fracs = [joy_c, neutral_c, sad_c, angry_c,fear_c]\n",
        "colors = ['gold', 'yellowgreen', 'lightcoral', 'lightskyblue','red']\n",
        "explode = (0, 0, 0,0,0)\n",
        "pie(fracs, explode=explode, labels=labels, autopct='%1.1f%%', shadow=True)\n",
        "title('sentimental classification of text', bbox={'facecolor': '0.8', 'pad': 5})\n",
        "\n",
        "\n",
        "plt.savefig(\"abc.png\")\n",
        "show(\"abc.png\")\n",
        "fl.download(\"abc.png\")"
      ],
      "execution_count": null,
      "outputs": [
        {
          "output_type": "display_data",
          "data": {
            "image/png": "[encoded data removed]",
            "text/plain": [
              "<Figure size 432x288 with 1 Axes>"
            ]
          },
          "metadata": {
            "tags": []
          }
        },
        {
          "output_type": "display_data",
          "data": {
            "application/javascript": [
              "\n",
              "    async function download(id, filename, size) {\n",
              "      if (!google.colab.kernel.accessAllowed) {\n",
              "        return;\n",
              "      }\n",
              "      const div = document.createElement('div');\n",
              "      const label = document.createElement('label');\n",
              "      label.textContent = `Downloading \"${filename}\": `;\n",
              "      div.appendChild(label);\n",
              "      const progress = document.createElement('progress');\n",
              "      progress.max = size;\n",
              "      div.appendChild(progress);\n",
              "      document.body.appendChild(div);\n",
              "\n",
              "      const buffers = [];\n",
              "      let downloaded = 0;\n",
              "\n",
              "      const channel = await google.colab.kernel.comms.open(id);\n",
              "      // Send a message to notify the kernel that we're ready.\n",
              "      channel.send({})\n",
              "\n",
              "      for await (const message of channel.messages) {\n",
              "        // Send a message to notify the kernel that we're ready.\n",
              "        channel.send({})\n",
              "        if (message.buffers) {\n",
              "          for (const buffer of message.buffers) {\n",
              "            buffers.push(buffer);\n",
              "            downloaded += buffer.byteLength;\n",
              "            progress.value = downloaded;\n",
              "          }\n",
              "        }\n",
              "      }\n",
              "      const blob = new Blob(buffers, {type: 'application/binary'});\n",
              "      const a = document.createElement('a');\n",
              "      a.href = window.URL.createObjectURL(blob);\n",
              "      a.download = filename;\n",
              "      div.appendChild(a);\n",
              "      a.click();\n",
              "      div.remove();\n",
              "    }\n",
              "  "
            ],
            "text/plain": [
              "<IPython.core.display.Javascript object>"
            ]
          },
          "metadata": {
            "tags": []
          }
        },
        {
          "output_type": "display_data",
          "data": {
            "application/javascript": [
              "download(\"download_b5a78410-4c45-48fc-b2e2-03ab73e6aa54\", \"abc.png\", 17803)"
            ],
            "text/plain": [
              "<IPython.core.display.Javascript object>"
            ]
          },
          "metadata": {
            "tags": []
          }
        }
      ]
    }
  ]
}