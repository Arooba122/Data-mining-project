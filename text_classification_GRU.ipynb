{
  "nbformat": 4,
  "nbformat_minor": 0,
  "metadata": {
    "colab": {
      "name": "text_classification_GRU.ipynb",
      "provenance": [],
      "mount_file_id": "1pOkijL6O0w8I3aKKP7TdC-Ha6Hmx4UzK",
      "authorship_tag": "ABX9TyMPl4xujZ5oEF9auFpC/pPv",
      "include_colab_link": true
    },
    "kernelspec": {
      "name": "python3",
      "display_name": "Python 3"
    }
  },
  "cells": [
    {
      "cell_type": "markdown",
      "metadata": {
        "id": "view-in-github",
        "colab_type": "text"
      },
      "source": [
        "<a href=\"https://colab.research.google.com/github/Arooba122/Data-mining-project/blob/master/text_classification_GRU.ipynb\" target=\"_parent\"><img src=\"https://colab.research.google.com/assets/colab-badge.svg\" alt=\"Open In Colab\"/></a>"
      ]
    },
    {
      "cell_type": "markdown",
      "metadata": {
        "id": "Xl3cJh30lIXG",
        "colab_type": "text"
      },
      "source": [
        "*1) reading the datasets file from google drive*"
      ]
    },
    {
      "cell_type": "code",
      "metadata": {
        "id": "0axrxHTBLH2-",
        "colab_type": "code",
        "colab": {}
      },
      "source": [
        "import pandas as pd\n",
        "data_train=pd.read_csv('/content/drive/My Drive/data_train.csv' , header=None )\n",
        "data_test=pd.read_csv('/content/drive/My Drive/data_test.csv' , header=None )"
      ],
      "execution_count": null,
      "outputs": []
    },
    {
      "cell_type": "markdown",
      "metadata": {
        "id": "WrC3uUzYlc9L",
        "colab_type": "text"
      },
      "source": [
        "**2) importing the libraries used for modal traning and data pre-processing**"
      ]
    },
    {
      "cell_type": "code",
      "metadata": {
        "id": "pOdAAW76f6_u",
        "colab_type": "code",
        "colab": {}
      },
      "source": [
        "import pandas as pd\n",
        "import numpy as np\n",
        "\n",
        "# text preprocessing\n",
        "from nltk.tokenize import word_tokenize\n",
        "import re\n",
        "\n",
        "# plots and metrics\n",
        "import matplotlib.pyplot as plt\n",
        "from sklearn.metrics import accuracy_score, f1_score, confusion_matrix\n",
        "\n",
        "# preparing input to our model\n",
        "from keras.preprocessing.text import Tokenizer\n",
        "from keras.preprocessing.sequence import pad_sequences\n",
        "from keras.utils import to_categorical\n",
        "\n",
        "# keras layers\n",
        "from keras.models import Sequential\n",
        "from keras.layers import Embedding, Bidirectional, LSTM, GRU, Dense"
      ],
      "execution_count": null,
      "outputs": []
    },
    {
      "cell_type": "markdown",
      "metadata": {
        "id": "CdyLUuGtlrX3",
        "colab_type": "text"
      },
      "source": [
        "**3) retrving the desired content from dataset file n this case we only need text and its emotions**"
      ]
    },
    {
      "cell_type": "code",
      "metadata": {
        "id": "mWLj2dR3NDt5",
        "colab_type": "code",
        "colab": {}
      },
      "source": [
        "df_train=pd.DataFrame(data_train)\n",
        "df_test=pd.DataFrame(data_test)\n",
        "X_train = df_train.iloc[1:,1]\n",
        "X_test = df_test.iloc[1:,1]\n",
        "\n",
        "y_train =df_train.iloc[1:,0]\n",
        "y_test = df_test.iloc[1:,0]\n",
        "\n",
        "data = data_train.append(data_test, ignore_index=True)"
      ],
      "execution_count": null,
      "outputs": []
    },
    {
      "cell_type": "code",
      "metadata": {
        "id": "lUh8GCQHNDzB",
        "colab_type": "code",
        "colab": {}
      },
      "source": [
        "# Number of labels: joy, anger, fear, sadness, neutral\n",
        "num_classes = 5\n",
        "\n",
        "# Number of dimensions for word embedding\n",
        "embed_num_dims = 300\n",
        "\n",
        "# Max input length (max number of words) \n",
        "max_seq_len = 500\n",
        "\n",
        "class_names = ['joy', 'fear', 'anger', 'sadness', 'neutral']"
      ],
      "execution_count": null,
      "outputs": []
    },
    {
      "cell_type": "markdown",
      "metadata": {
        "id": "FQ_9W7jjl7dc",
        "colab_type": "text"
      },
      "source": [
        "**4) cleansing of text from user names and hash tags**"
      ]
    },
    {
      "cell_type": "code",
      "metadata": {
        "id": "r6spAjWIgmzT",
        "colab_type": "code",
        "colab": {}
      },
      "source": [
        "def clean_text(data):\n",
        "    \n",
        "    # remove hashtags and @usernames\n",
        "    data = re.sub(r\"(#[\\d\\w\\.]+)\", '', data)\n",
        "    data = re.sub(r\"(@[\\d\\w\\.]+)\", '', data)\n",
        "    \n",
        "    # tekenization using nltk\n",
        "    data = word_tokenize(data)\n",
        "    \n",
        "    return data"
      ],
      "execution_count": null,
      "outputs": []
    },
    {
      "cell_type": "code",
      "metadata": {
        "id": "iDz7rhZ9lxg4",
        "colab_type": "code",
        "colab": {}
      },
      "source": [
        "print(data[1])"
      ],
      "execution_count": null,
      "outputs": []
    },
    {
      "cell_type": "code",
      "metadata": {
        "id": "ieecLcbpg1f6",
        "colab_type": "code",
        "colab": {
          "base_uri": "https://localhost:8080/",
          "height": 51
        },
        "outputId": "6ac835db-ef61-483b-cf34-c19694a3ad92"
      },
      "source": [
        "import nltk\n",
        "nltk.download('punkt')\n",
        "texts = [' '.join(clean_text(text)) for text in data[1]]\n",
        "\n",
        "texts_train = [' '.join(clean_text(text)) for text in X_train]\n",
        "texts_test = [' '.join(clean_text(text)) for text in X_test]"
      ],
      "execution_count": null,
      "outputs": [
        {
          "output_type": "stream",
          "text": [
            "[nltk_data] Downloading package punkt to /root/nltk_data...\n",
            "[nltk_data]   Unzipping tokenizers/punkt.zip.\n"
          ],
          "name": "stdout"
        }
      ]
    },
    {
      "cell_type": "code",
      "metadata": {
        "id": "NoBNidwhhJA0",
        "colab_type": "code",
        "colab": {
          "base_uri": "https://localhost:8080/",
          "height": 34
        },
        "outputId": "352eb8b2-3202-4b1a-d91b-15ab364139a0"
      },
      "source": [
        "print(texts_train[92])"
      ],
      "execution_count": null,
      "outputs": [
        {
          "output_type": "stream",
          "text": [
            "a bit ? I 'm extremely annoyed that he did n't phone me when he promised me that he would ! He 's such a liar .\n"
          ],
          "name": "stdout"
        }
      ]
    },
    {
      "cell_type": "markdown",
      "metadata": {
        "id": "IrFFbuzbmQDO",
        "colab_type": "text"
      },
      "source": [
        "**5) sequencing of data in to a fix numbers so that model receve the inputs in same length**"
      ]
    },
    {
      "cell_type": "code",
      "metadata": {
        "id": "bkMFO_e1hN_k",
        "colab_type": "code",
        "colab": {
          "base_uri": "https://localhost:8080/",
          "height": 34
        },
        "outputId": "bf365b57-b10f-4c97-ffe8-099e753c4a80"
      },
      "source": [
        "tokenizer = Tokenizer()\n",
        "tokenizer.fit_on_texts(texts)\n",
        "\n",
        "sequence_train = tokenizer.texts_to_sequences(texts_train)\n",
        "sequence_test = tokenizer.texts_to_sequences(texts_test)\n",
        "\n",
        "index_of_words = tokenizer.word_index\n",
        "\n",
        "# vacab size is number of unique words + reserved 0 index for padding\n",
        "vocab_size = len(index_of_words) + 1\n",
        "\n",
        "print('Number of unique words: {}'.format(len(index_of_words)))"
      ],
      "execution_count": null,
      "outputs": [
        {
          "output_type": "stream",
          "text": [
            "Number of unique words: 12088\n"
          ],
          "name": "stdout"
        }
      ]
    },
    {
      "cell_type": "code",
      "metadata": {
        "id": "YaNtLIdYhULB",
        "colab_type": "code",
        "colab": {}
      },
      "source": [
        "X_train_pad = pad_sequences(sequence_train, maxlen = max_seq_len )\n",
        "X_test_pad = pad_sequences(sequence_test, maxlen = max_seq_len )"
      ],
      "execution_count": null,
      "outputs": []
    },
    {
      "cell_type": "markdown",
      "metadata": {
        "id": "sXETsTu2mg5n",
        "colab_type": "text"
      },
      "source": [
        "**6) preperation of out labels thorugh encoding**"
      ]
    },
    {
      "cell_type": "code",
      "metadata": {
        "id": "-x1CoCYMhY4N",
        "colab_type": "code",
        "colab": {}
      },
      "source": [
        "encoding = {\n",
        "    'joy': 0,\n",
        "    'fear': 1,\n",
        "    'anger': 2,\n",
        "    'sadness': 3,\n",
        "    'neutral': 4\n",
        "}\n",
        "\n",
        "# Integer labels\n",
        "y_train = [encoding[x] for x in df_train.iloc[1:,0]]\n",
        "y_test = [encoding[x] for x in df_test.iloc[1:,0]]"
      ],
      "execution_count": null,
      "outputs": []
    },
    {
      "cell_type": "code",
      "metadata": {
        "id": "GczDsCH0h16N",
        "colab_type": "code",
        "colab": {}
      },
      "source": [
        "y_train = to_categorical(y_train)\n",
        "y_test = to_categorical(y_test)"
      ],
      "execution_count": null,
      "outputs": []
    },
    {
      "cell_type": "markdown",
      "metadata": {
        "id": "lcOfEL1ImsEL",
        "colab_type": "text"
      },
      "source": [
        "**7)model training occurs when these cells run you dont need to train model because of the trained model files given in the git repository in to be uploaded folder\n",
        "\n",
        "```\n",
        "# This is formatted as code\n",
        "```\n",
        "\n",
        "**"
      ]
    },
    {
      "cell_type": "code",
      "metadata": {
        "id": "c4HyG1wWh73u",
        "colab_type": "code",
        "colab": {}
      },
      "source": [
        "# Parameters\n",
        "gru_output_size = 128\n",
        "bidirectional = True\n",
        "\n",
        "# Embedding Layer, LSTM or biLSTM, Dense, softmax\n",
        "model = Sequential()\n",
        "model.add(Embedding(vocab_size,embed_num_dims,input_length = max_seq_len))\n",
        "if bidirectional:\n",
        "    model.add(Bidirectional(GRU(units=gru_output_size,\n",
        "                              dropout=0.2,\n",
        "                              recurrent_dropout=0.2)))\n",
        "else:\n",
        "     model.add(GRU(units=gru_output_size,\n",
        "                dropout=0.2, \n",
        "                recurrent_dropout=0.2))\n",
        "\n",
        "model.add(Dense(num_classes, activation='softmax'))\n",
        "\n"
      ],
      "execution_count": null,
      "outputs": []
    },
    {
      "cell_type": "code",
      "metadata": {
        "id": "Zf2FWhcjjheK",
        "colab_type": "code",
        "colab": {
          "base_uri": "https://localhost:8080/",
          "height": 255
        },
        "outputId": "507d6092-06bf-43a4-bdc9-d1323eda9d18"
      },
      "source": [
        "model.compile(loss = 'categorical_crossentropy', optimizer = 'adam', metrics = ['accuracy'])\n",
        "model.summary()"
      ],
      "execution_count": null,
      "outputs": [
        {
          "output_type": "stream",
          "text": [
            "Model: \"sequential\"\n",
            "_________________________________________________________________\n",
            "Layer (type)                 Output Shape              Param #   \n",
            "=================================================================\n",
            "embedding (Embedding)        (None, 500, 300)          3626700   \n",
            "_________________________________________________________________\n",
            "bidirectional (Bidirectional (None, 256)               330240    \n",
            "_________________________________________________________________\n",
            "dense (Dense)                (None, 5)                 1285      \n",
            "=================================================================\n",
            "Total params: 3,958,225\n",
            "Trainable params: 3,958,225\n",
            "Non-trainable params: 0\n",
            "_________________________________________________________________\n"
          ],
          "name": "stdout"
        }
      ]
    },
    {
      "cell_type": "code",
      "metadata": {
        "id": "QRGE9QxRjrEV",
        "colab_type": "code",
        "colab": {
          "base_uri": "https://localhost:8080/",
          "height": 547
        },
        "outputId": "819365f1-ce7c-4c1c-e8bd-af22f3ca7377"
      },
      "source": [
        "batch_size = 128\n",
        "epochs = 15\n",
        "\n",
        "hist = model.fit(X_train_pad, y_train, \n",
        "                 batch_size=batch_size,\n",
        "                 epochs=epochs,\n",
        "                 validation_data=(X_test_pad,y_test))"
      ],
      "execution_count": null,
      "outputs": [
        {
          "output_type": "stream",
          "text": [
            "Epoch 1/15\n",
            "62/62 [==============================] - 530s 9s/step - loss: 1.4004 - accuracy: 0.3741 - val_loss: 1.3213 - val_accuracy: 0.4203\n",
            "Epoch 2/15\n",
            "62/62 [==============================] - 529s 9s/step - loss: 1.0252 - accuracy: 0.6226 - val_loss: 0.9456 - val_accuracy: 0.6478\n",
            "Epoch 3/15\n",
            "62/62 [==============================] - 529s 9s/step - loss: 0.5233 - accuracy: 0.8213 - val_loss: 0.8649 - val_accuracy: 0.6929\n",
            "Epoch 4/15\n",
            "62/62 [==============================] - 530s 9s/step - loss: 0.3210 - accuracy: 0.8953 - val_loss: 0.9302 - val_accuracy: 0.6979\n",
            "Epoch 5/15\n",
            "62/62 [==============================] - 527s 9s/step - loss: 0.2118 - accuracy: 0.9355 - val_loss: 1.0117 - val_accuracy: 0.7029\n",
            "Epoch 6/15\n",
            "62/62 [==============================] - 522s 8s/step - loss: 0.1717 - accuracy: 0.9483 - val_loss: 1.1480 - val_accuracy: 0.6976\n",
            "Epoch 7/15\n",
            "62/62 [==============================] - 522s 8s/step - loss: 0.1351 - accuracy: 0.9608 - val_loss: 1.2035 - val_accuracy: 0.6902\n",
            "Epoch 8/15\n",
            "62/62 [==============================] - 523s 8s/step - loss: 0.1153 - accuracy: 0.9653 - val_loss: 1.3653 - val_accuracy: 0.6905\n",
            "Epoch 9/15\n",
            "62/62 [==============================] - 521s 8s/step - loss: 0.1040 - accuracy: 0.9695 - val_loss: 1.3691 - val_accuracy: 0.6902\n",
            "Epoch 10/15\n",
            "62/62 [==============================] - 525s 8s/step - loss: 0.0989 - accuracy: 0.9694 - val_loss: 1.4475 - val_accuracy: 0.6817\n",
            "Epoch 11/15\n",
            "62/62 [==============================] - 524s 8s/step - loss: 0.0851 - accuracy: 0.9742 - val_loss: 1.4726 - val_accuracy: 0.6773\n",
            "Epoch 12/15\n",
            "62/62 [==============================] - 521s 8s/step - loss: 0.0722 - accuracy: 0.9790 - val_loss: 1.5759 - val_accuracy: 0.6782\n",
            "Epoch 13/15\n",
            "62/62 [==============================] - 522s 8s/step - loss: 0.0718 - accuracy: 0.9790 - val_loss: 1.6661 - val_accuracy: 0.6852\n",
            "Epoch 14/15\n",
            "62/62 [==============================] - 524s 8s/step - loss: 0.0649 - accuracy: 0.9802 - val_loss: 1.7262 - val_accuracy: 0.6702\n",
            "Epoch 15/15\n",
            "62/62 [==============================] - 524s 8s/step - loss: 0.0634 - accuracy: 0.9816 - val_loss: 1.8219 - val_accuracy: 0.6734\n"
          ],
          "name": "stdout"
        }
      ]
    },
    {
      "cell_type": "code",
      "metadata": {
        "id": "gYdpsHFCE6yn",
        "colab_type": "code",
        "colab": {
          "base_uri": "https://localhost:8080/",
          "height": 295
        },
        "outputId": "8297c134-d8d0-47eb-afa7-b6ff495ac25b"
      },
      "source": [
        "#  \"Accuracy\"\n",
        "plt.plot(hist.history['accuracy'])\n",
        "plt.plot(hist.history['val_accuracy'])\n",
        "plt.title('model accuracy')\n",
        "plt.ylabel('accuracy')\n",
        "plt.xlabel('epoch')\n",
        "plt.legend(['train', 'validation'], loc='upper left')\n",
        "plt.show()\n"
      ],
      "execution_count": null,
      "outputs": [
        {
          "output_type": "display_data",
          "data": {
            "image/png": "[encoded data removed]",
            "text/plain": [
              "<Figure size 432x288 with 1 Axes>"
            ]
          },
          "metadata": {
            "tags": [],
            "needs_background": "light"
          }
        }
      ]
    },
    {
      "cell_type": "code",
      "metadata": {
        "id": "T7fprbT-FF-w",
        "colab_type": "code",
        "colab": {
          "base_uri": "https://localhost:8080/",
          "height": 295
        },
        "outputId": "f2831600-e972-4792-8de4-bbff4d9fe52e"
      },
      "source": [
        "# \"Loss\"\n",
        "plt.plot(hist.history['loss'])\n",
        "plt.plot(hist.history['val_loss'])\n",
        "plt.title('model loss')\n",
        "plt.ylabel('loss')\n",
        "plt.xlabel('epoch')\n",
        "plt.legend(['train', 'validation'], loc='upper left')\n",
        "plt.show()"
      ],
      "execution_count": null,
      "outputs": [
        {
          "output_type": "display_data",
          "data": {
            "image/png": "[encoded data removed]",
            "text/plain": [
              "<Figure size 432x288 with 1 Axes>"
            ]
          },
          "metadata": {
            "tags": [],
            "needs_background": "light"
          }
        }
      ]
    },
    {
      "cell_type": "code",
      "metadata": {
        "id": "WT3t4726FOpM",
        "colab_type": "code",
        "colab": {}
      },
      "source": [
        "predictions = model.predict(X_test_pad)\n",
        "predictions = np.argmax(predictions, axis=1)\n",
        "predictions = [class_names[pred] for pred in predictions]"
      ],
      "execution_count": null,
      "outputs": []
    },
    {
      "cell_type": "code",
      "metadata": {
        "id": "nIQCEk5CFiEq",
        "colab_type": "code",
        "colab": {
          "base_uri": "https://localhost:8080/",
          "height": 68
        },
        "outputId": "8e0c0495-7a93-404b-b7b6-587331263948"
      },
      "source": [
        "print(\"Accuracy: {:.2f}%\".format(accuracy_score(df_test.iloc[1:,0], predictions) * 100))\n",
        "print(\"\\nF1 Score: {:.2f}\".format(f1_score(df_test.iloc[1:,0], predictions, average='micro') * 100))\n"
      ],
      "execution_count": null,
      "outputs": [
        {
          "output_type": "stream",
          "text": [
            "Accuracy: 67.34%\n",
            "\n",
            "F1 Score: 67.34\n"
          ],
          "name": "stdout"
        }
      ]
    },
    {
      "cell_type": "code",
      "metadata": {
        "id": "UlbJhn-kF_yz",
        "colab_type": "code",
        "colab": {
          "base_uri": "https://localhost:8080/",
          "height": 51
        },
        "outputId": "0d35a92e-9b83-4984-f913-9b513da960d3"
      },
      "source": [
        "import time\n",
        "\n",
        "message = [' i love you like a love song']\n",
        "\n",
        "seq = tokenizer.texts_to_sequences(message)\n",
        "padded = pad_sequences(seq, maxlen=max_seq_len)\n",
        "\n",
        "start_time = time.time()\n",
        "pred = model.predict(padded)\n",
        "\n",
        "print('Message: ' + str(message))\n",
        "print('predicted: {} ({:.2f} seconds)'.format(class_names[np.argmax(pred)], (time.time() - start_time)))"
      ],
      "execution_count": null,
      "outputs": [
        {
          "output_type": "stream",
          "text": [
            "Message: [' i love you like a love song']\n",
            "predicted: joy (0.17 seconds)\n"
          ],
          "name": "stdout"
        }
      ]
    },
    {
      "cell_type": "code",
      "metadata": {
        "id": "YCwpvdE40bz-",
        "colab_type": "code",
        "colab": {
          "base_uri": "https://localhost:8080/",
          "height": 68
        },
        "outputId": "b03a2e80-6015-4f33-d547-f04ca3fdceb5"
      },
      "source": [
        "test_loss, test_acc = model.evaluate(X_test_pad,y_test)\n",
        "print('Test Loss: {}'.format(test_loss))\n",
        "print('Test Accuracy: {}'.format(test_acc))"
      ],
      "execution_count": null,
      "outputs": [
        {
          "output_type": "stream",
          "text": [
            "107/107 [==============================] - 37s 349ms/step - loss: 2.5174 - accuracy: 0.6658\n",
            "Test Loss: 2.5173749923706055\n",
            "Test Accuracy: 0.6657825112342834\n"
          ],
          "name": "stdout"
        }
      ]
    },
    {
      "cell_type": "markdown",
      "metadata": {
        "id": "SG21_7oBnMix",
        "colab_type": "text"
      },
      "source": [
        "**7) saving the train model into drive**"
      ]
    },
    {
      "cell_type": "code",
      "metadata": {
        "id": "QsFX4pB4qFGH",
        "colab_type": "code",
        "colab": {}
      },
      "source": [
        "model.save('/content/drive/My Drive/Sentiment_Analysis_text_model/text_model.h5')"
      ],
      "execution_count": null,
      "outputs": []
    },
    {
      "cell_type": "markdown",
      "metadata": {
        "id": "5Abzk7ognTiZ",
        "colab_type": "text"
      },
      "source": [
        "**8) trained model saved on the drive can be load from here**"
      ]
    },
    {
      "cell_type": "code",
      "metadata": {
        "id": "fcbq0X9zOaOE",
        "colab_type": "code",
        "colab": {}
      },
      "source": [
        "from keras.models import load_model\n",
        "modell = load_model('/content/drive/My Drive/Sentiment_Analysis_text_model/text_model.h5')"
      ],
      "execution_count": null,
      "outputs": []
    },
    {
      "cell_type": "markdown",
      "metadata": {
        "id": "J73LapcAo2uN",
        "colab_type": "text"
      },
      "source": [
        "**9) model is loaded now perform the task on srt file by giving the pathof your drive folder where that sample srt file is present**"
      ]
    },
    {
      "cell_type": "code",
      "metadata": {
        "id": "O1bUeNz4x0lb",
        "colab_type": "code",
        "colab": {
          "base_uri": "https://localhost:8080/",
          "height": 122
        },
        "outputId": "f2d1facb-1f85-45a1-945c-ab4c7352a041"
      },
      "source": [
        "file = open( \"/content/drive/My Drive/sample.srt\", \"r\")\n",
        "lines = file.readlines()\n",
        "print(lines)\n",
        "print(type(lines[1]))\n",
        "print(lines[1])\n",
        "file.close()\n",
        "import re\n",
        "\n",
        "text = ''\n",
        "for line in lines:\n",
        "    if re.search('^[0-9]+$', line) is None and re.search('^[0-9]{2}:[0-9]{2}:[0-9]{2}', line) is None and re.search('^$', line) is None:\n",
        "            text += ' ' + line.rstrip('\\n')\n",
        "    text = text.lstrip()\n",
        "print(text)\n"
      ],
      "execution_count": null,
      "outputs": [
        {
          "output_type": "stream",
          "text": [
            "['\\ufeff1\\n', '00:00:36,320 --> 00:00:40,799\\n', '<i>I believe we have a choice in this\\n', 'world about how to tell sad stories.</i>\\n', '\\n', '2\\n', '00:00:40,800 --> 00:00:43,639\\n', '<i>On the one hand,\\n', 'you can sugarcoat it.</i>\\n', '\\n', '3\\n', '00:00:43,640 --> 00:00:46,239\\n', '<i>The way they do in movies\\n', 'and romance novels...</i>\\n', '\\n', '4\\n', '00:00:46,240 --> 00:00:49,799\\n', '<i>where beautiful people\\n', 'learn beautiful lessons...</i>\\n', '\\n', '5\\n', '00:00:49,800 --> 00:00:52,079\\n', '<i>where nothing is too messed\\n', \"up that can't be fixed...</i>\\n\", '\\n', '6\\n', '00:00:52,080 --> 00:00:54,603\\n', '<i>with an apology\\n', 'and a Peter Gabriel song.</i>\\n', '\\n', '7\\n', '00:00:54,960 --> 00:00:57,319\\n', '<i>I like that version as much\\n', 'as the next girl does,</i>\\n', '\\n', '8\\n', '00:00:57,320 --> 00:00:59,081\\n', '<i>believe me.</i>\\n', '\\n', '9\\n', '00:00:59,600 --> 00:01:01,929\\n', \"<i>It's just not the truth.</i>\\n\", '\\n', '10\\n', '00:01:02,680 --> 00:01:04,406\\n', '<i>This is the truth.</i>\\n', '\\n', '11\\n', '00:01:05,360 --> 00:01:06,961\\n', '<i>Sorry.</i>\\n', '\\n', '12\\n', '00:01:13,120 --> 00:01:16,200\\n', '<i>Late in the winter\\n', 'of my seventeenth year...</i>\\n', '\\n', '13\\n', '00:01:16,360 --> 00:01:18,759\\n', '<i>my mother decided\\n', 'that I was depressed.</i>\\n', '\\n', '14\\n', '00:01:20,520 --> 00:01:23,319\\n', 'She just eats like a bird,\\n', 'she barely leaves the house.\\n', '\\n', '15\\n', '00:01:23,320 --> 00:01:24,999\\n', 'I am not depressed, Mom.\\n', '\\n', '16\\n', '00:01:25,000 --> 00:01:26,839\\n', \"She's reading the same\\n\", 'book over and over.\\n', '\\n', '17\\n', '00:01:26,840 --> 00:01:27,999\\n', \"She's depressed.\\n\", '\\n', '18\\n', '00:01:28,000 --> 00:01:29,559\\n', \"I'm not depressed.\\n\", '\\n', '19\\n', '00:01:29,560 --> 00:01:32,039\\n', '<i>The booklets and the websites\\n', 'always list depression as</i>\\n', '\\n', '20\\n', '00:01:32,040 --> 00:01:33,399\\n', '<i>a side effect of cancer.</i>']\n",
            "<class 'str'>\n",
            "00:00:36,320 --> 00:00:40,799\n",
            "\n",
            "﻿1 <i>I believe we have a choice in this world about how to tell sad stories.</i> <i>On the one hand, you can sugarcoat it.</i> <i>The way they do in movies and romance novels...</i> <i>where beautiful people learn beautiful lessons...</i> <i>where nothing is too messed up that can't be fixed...</i> <i>with an apology and a Peter Gabriel song.</i> <i>I like that version as much as the next girl does,</i> <i>believe me.</i> <i>It's just not the truth.</i> <i>This is the truth.</i> <i>Sorry.</i> <i>Late in the winter of my seventeenth year...</i> <i>my mother decided that I was depressed.</i> She just eats like a bird, she barely leaves the house. I am not depressed, Mom. She's reading the same book over and over. She's depressed. I'm not depressed. <i>The booklets and the websites always list depression as</i> <i>a side effect of cancer.</i>\n"
          ],
          "name": "stdout"
        }
      ]
    },
    {
      "cell_type": "code",
      "metadata": {
        "id": "Lt7ses6cJtHR",
        "colab_type": "code",
        "colab": {
          "base_uri": "https://localhost:8080/",
          "height": 51
        },
        "outputId": "68bd97c6-95b5-4218-b950-57515b9fff86"
      },
      "source": [
        "print(len(text))\n",
        "print(type(text))\n",
        "text=text.split('.')"
      ],
      "execution_count": null,
      "outputs": [
        {
          "output_type": "stream",
          "text": [
            "852\n",
            "<class 'str'>\n"
          ],
          "name": "stdout"
        }
      ]
    },
    {
      "cell_type": "code",
      "metadata": {
        "id": "cA5OcSARZNlB",
        "colab_type": "code",
        "colab": {
          "base_uri": "https://localhost:8080/",
          "height": 88
        },
        "outputId": "33e56415-745d-45b4-db1a-34231dbf3806"
      },
      "source": [
        "print(len(text))\n",
        "print(text)\n",
        "\n",
        "print(text[1])\n",
        "text_1=[]\n",
        "for i in range(len(text)):\n",
        "\n",
        "   li = list(text[i].split(\" \"))\n",
        "   text_1.append(li)\n"
      ],
      "execution_count": null,
      "outputs": [
        {
          "output_type": "stream",
          "text": [
            "27\n",
            "['\\ufeff1 <i>I believe we have a choice in this world about how to tell sad stories', '</i> <i>On the one hand, you can sugarcoat it', '</i> <i>The way they do in movies and romance novels', '', '', '</i> <i>where beautiful people learn beautiful lessons', '', '', \"</i> <i>where nothing is too messed up that can't be fixed\", '', '', '</i> <i>with an apology and a Peter Gabriel song', '</i> <i>I like that version as much as the next girl does,</i> <i>believe me', \"</i> <i>It's just not the truth\", '</i> <i>This is the truth', '</i> <i>Sorry', '</i> <i>Late in the winter of my seventeenth year', '', '', '</i> <i>my mother decided that I was depressed', '</i> She just eats like a bird, she barely leaves the house', ' I am not depressed, Mom', \" She's reading the same book over and over\", \" She's depressed\", \" I'm not depressed\", ' <i>The booklets and the websites always list depression as</i> <i>a side effect of cancer', '</i>']\n",
            "</i> <i>On the one hand, you can sugarcoat it\n"
          ],
          "name": "stdout"
        }
      ]
    },
    {
      "cell_type": "code",
      "metadata": {
        "id": "PpzvofjqdIbo",
        "colab_type": "code",
        "colab": {
          "base_uri": "https://localhost:8080/",
          "height": 34
        },
        "outputId": "856762a2-24bf-49a5-9dd0-3b6541175b49"
      },
      "source": [
        "print(text_1[1])"
      ],
      "execution_count": null,
      "outputs": [
        {
          "output_type": "stream",
          "text": [
            "['</i>', '<i>On', 'the', 'one', 'hand,', 'you', 'can', 'sugarcoat', 'it']\n"
          ],
          "name": "stdout"
        }
      ]
    },
    {
      "cell_type": "code",
      "metadata": {
        "id": "F76qTk1RNyLD",
        "colab_type": "code",
        "colab": {
          "base_uri": "https://localhost:8080/",
          "height": 119
        },
        "outputId": "03c9c59c-b611-4e3d-f6b3-08817fac0122"
      },
      "source": [
        "# removal of stop words from sentiments..\n",
        "import nltk\n",
        "import numpy\n",
        "nltk.download('punkt')\n",
        "nltk.download('wordnet')\n",
        "from nltk.corpus import stopwords \n",
        "from nltk.tokenize import sent_tokenize, word_tokenize\n",
        "nltk.download('stopwords')\n",
        "# from nltk.corpus import stopwords\n",
        "from nltk.tokenize import word_tokenize\n",
        "stop_words = set(stopwords.words('english'))\n",
        "removed=[]\n",
        "#text=c[0][0]\n",
        "# c=content.str.split(\" \")\n",
        "for i in range (len(text_1)):\n",
        "  for j in range (len(text_1[i])):\n",
        "\n",
        "\n",
        "     x=\" \"\n",
        "     text2= [w for w in text_1[i] if not w in stop_words]\n",
        "#     for w in c[i]: \n",
        "  removed.append(text2)"
      ],
      "execution_count": null,
      "outputs": [
        {
          "output_type": "stream",
          "text": [
            "[nltk_data] Downloading package punkt to /root/nltk_data...\n",
            "[nltk_data]   Package punkt is already up-to-date!\n",
            "[nltk_data] Downloading package wordnet to /root/nltk_data...\n",
            "[nltk_data]   Package wordnet is already up-to-date!\n",
            "[nltk_data] Downloading package stopwords to /root/nltk_data...\n",
            "[nltk_data]   Package stopwords is already up-to-date!\n"
          ],
          "name": "stdout"
        }
      ]
    },
    {
      "cell_type": "code",
      "metadata": {
        "id": "ZxNl0MaN2SPJ",
        "colab_type": "code",
        "colab": {
          "base_uri": "https://localhost:8080/",
          "height": 54
        },
        "outputId": "bbb1ace2-de98-4df3-eb93-e7f655ef49e6"
      },
      "source": [
        "print(removed)\n",
        "# print(type(removed))\n",
        "# print(type(removed[1]))\n",
        "# print(type(removed[1][1]))\n",
        "# print(removed[1][1])\n",
        "# x=removed[1][1].split(' ')\n",
        "# print(x)\n"
      ],
      "execution_count": null,
      "outputs": [
        {
          "output_type": "stream",
          "text": [
            "[['\\ufeff1', '<i>I', 'believe', 'choice', 'world', 'tell', 'sad', 'stories'], ['</i>', '<i>On', 'one', 'hand,', 'sugarcoat'], ['</i>', '<i>The', 'way', 'movies', 'romance', 'novels'], [''], [''], ['</i>', '<i>where', 'beautiful', 'people', 'learn', 'beautiful', 'lessons'], [''], [''], ['</i>', '<i>where', 'nothing', 'messed', \"can't\", 'fixed'], [''], [''], ['</i>', '<i>with', 'apology', 'Peter', 'Gabriel', 'song'], ['</i>', '<i>I', 'like', 'version', 'much', 'next', 'girl', 'does,</i>', '<i>believe'], ['</i>', \"<i>It's\", 'truth'], ['</i>', '<i>This', 'truth'], ['</i>', '<i>Sorry'], ['</i>', '<i>Late', 'winter', 'seventeenth', 'year'], [''], [''], ['</i>', '<i>my', 'mother', 'decided', 'I', 'depressed'], ['</i>', 'She', 'eats', 'like', 'bird,', 'barely', 'leaves', 'house'], ['', 'I', 'depressed,', 'Mom'], ['', \"She's\", 'reading', 'book'], ['', \"She's\", 'depressed'], ['', \"I'm\", 'depressed'], ['', '<i>The', 'booklets', 'websites', 'always', 'list', 'depression', 'as</i>', '<i>a', 'side', 'effect', 'cancer'], ['</i>']]\n"
          ],
          "name": "stdout"
        }
      ]
    },
    {
      "cell_type": "code",
      "metadata": {
        "id": "7v9AWoJ3OIPA",
        "colab_type": "code",
        "colab": {
          "base_uri": "https://localhost:8080/",
          "height": 85
        },
        "outputId": "7dc00add-3139-48ae-e5cb-9544baf6120d"
      },
      "source": [
        "#removal of special characters and spaces from the content \n",
        "# stamming is also performed here\n",
        "re=[]\n",
        "from nltk.stem import PorterStemmer\n",
        "nltk.download('averaged_perceptron_tagger')\n",
        "porter = PorterStemmer()\n",
        "for i in range(len(removed)):\n",
        "  \n",
        "      \n",
        "    files = removed[i]\n",
        "    result = [\"\".join(list(filter(str.isalnum, line))) for line in files]\n",
        "    result = list(filter(str.strip, result))\n",
        "    # for r in range (len(result)):\n",
        "    #    result[r]=porter.stem(result[r])\n",
        "  # result=nltk.pos_tag(result)\n",
        "    re.append(result)\n",
        "# print(re)"
      ],
      "execution_count": null,
      "outputs": [
        {
          "output_type": "stream",
          "text": [
            "[nltk_data] Downloading package averaged_perceptron_tagger to\n",
            "[nltk_data]     /root/nltk_data...\n",
            "[nltk_data]   Package averaged_perceptron_tagger is already up-to-\n",
            "[nltk_data]       date!\n"
          ],
          "name": "stdout"
        }
      ]
    },
    {
      "cell_type": "code",
      "metadata": {
        "id": "BNBigXenUVMQ",
        "colab_type": "code",
        "colab": {
          "base_uri": "https://localhost:8080/",
          "height": 54
        },
        "outputId": "309b0668-51c6-4e0b-d429-d3eb7eb80132"
      },
      "source": [
        "print(re)"
      ],
      "execution_count": null,
      "outputs": [
        {
          "output_type": "stream",
          "text": [
            "[['1', 'iI', 'believe', 'choice', 'world', 'tell', 'sad', 'stories'], ['i', 'iOn', 'one', 'hand', 'sugarcoat'], ['i', 'iThe', 'way', 'movies', 'romance', 'novels'], [], [], ['i', 'iwhere', 'beautiful', 'people', 'learn', 'beautiful', 'lessons'], [], [], ['i', 'iwhere', 'nothing', 'messed', 'cant', 'fixed'], [], [], ['i', 'iwith', 'apology', 'Peter', 'Gabriel', 'song'], ['i', 'iI', 'like', 'version', 'much', 'next', 'girl', 'doesi', 'ibelieve'], ['i', 'iIts', 'truth'], ['i', 'iThis', 'truth'], ['i', 'iSorry'], ['i', 'iLate', 'winter', 'seventeenth', 'year'], [], [], ['i', 'imy', 'mother', 'decided', 'I', 'depressed'], ['i', 'She', 'eats', 'like', 'bird', 'barely', 'leaves', 'house'], ['I', 'depressed', 'Mom'], ['Shes', 'reading', 'book'], ['Shes', 'depressed'], ['Im', 'depressed'], ['iThe', 'booklets', 'websites', 'always', 'list', 'depression', 'asi', 'ia', 'side', 'effect', 'cancer'], ['i']]\n"
          ],
          "name": "stdout"
        }
      ]
    },
    {
      "cell_type": "code",
      "metadata": {
        "id": "Kdh2J1riLBYI",
        "colab_type": "code",
        "colab": {}
      },
      "source": [
        "#removal of empty lists from list ..\n",
        "list_text = [x for x in re if x]"
      ],
      "execution_count": null,
      "outputs": []
    },
    {
      "cell_type": "code",
      "metadata": {
        "id": "QBC-k_d1L-Ys",
        "colab_type": "code",
        "colab": {
          "base_uri": "https://localhost:8080/",
          "height": 88
        },
        "outputId": "7069cd3a-1c3f-41fa-9220-574d02a4721f"
      },
      "source": [
        "print(list_text)\n",
        "print(list_text[0])\n",
        "s = list_text[0]\n",
        "listToStr = ' '.join([str(elem) for elem in s])\n",
        "print(listToStr)"
      ],
      "execution_count": null,
      "outputs": [
        {
          "output_type": "stream",
          "text": [
            "[['1', 'iI', 'believe', 'choice', 'world', 'tell', 'sad', 'stories'], ['i', 'iOn', 'one', 'hand', 'sugarcoat'], ['i', 'iThe', 'way', 'movies', 'romance', 'novels'], ['i', 'iwhere', 'beautiful', 'people', 'learn', 'beautiful', 'lessons'], ['i', 'iwhere', 'nothing', 'messed', 'cant', 'fixed'], ['i', 'iwith', 'apology', 'Peter', 'Gabriel', 'song'], ['i', 'iI', 'like', 'version', 'much', 'next', 'girl', 'doesi', 'ibelieve'], ['i', 'iIts', 'truth'], ['i', 'iThis', 'truth'], ['i', 'iSorry'], ['i', 'iLate', 'winter', 'seventeenth', 'year'], ['i', 'imy', 'mother', 'decided', 'I', 'depressed'], ['i', 'She', 'eats', 'like', 'bird', 'barely', 'leaves', 'house'], ['I', 'depressed', 'Mom'], ['Shes', 'reading', 'book'], ['Shes', 'depressed'], ['Im', 'depressed'], ['iThe', 'booklets', 'websites', 'always', 'list', 'depression', 'asi', 'ia', 'side', 'effect', 'cancer'], ['i']]\n",
            "['1', 'iI', 'believe', 'choice', 'world', 'tell', 'sad', 'stories']\n",
            "1 iI believe choice world tell sad stories\n"
          ],
          "name": "stdout"
        }
      ]
    },
    {
      "cell_type": "code",
      "metadata": {
        "id": "VauQimR8N5Oc",
        "colab_type": "code",
        "colab": {}
      },
      "source": [
        "# post tagging application\n",
        "import nltk\n",
        "from nltk import word_tokenize, pos_tag\n",
        "from nltk.corpus import wordnet\n",
        "\n",
        "from IPython.display import display\n",
        "\n",
        "lemmatizer = nltk.WordNetLemmatizer()\n",
        "\n",
        "#word tokenizeing and part-of-speech tagger\n",
        "\n",
        "\n",
        "# Rule for NP chunk and VB Chunk\n",
        "grammar = r\"\"\"\n",
        "    NBAR:\n",
        "        {<NN.*|JJ>*<NN.*>}  # Nouns and Adjectives, terminated with Nouns\n",
        "        {<RB.?>*<VB.?>*<JJ>*<VB.?>+<VB>?} # Verbs and Verb Phrases\n",
        "        \n",
        "    NP:\n",
        "        {<NBAR>}\n",
        "        {<NBAR><IN><NBAR>}  # Above, connected with in/of/etc...\n",
        "        \n",
        "\"\"\"\n",
        "#Chunking\n",
        "cp = nltk.RegexpParser(grammar)\n",
        "\n",
        "def leaves(tree):\n",
        "    \"\"\"Finds NP (nounphrase) leaf nodes of a chunk tree.\"\"\"\n",
        "    for subtree in tree.subtrees(filter = lambda t: t.label() =='NP'):\n",
        "        yield subtree.leaves()\n",
        "        \n",
        "def get_word_postag(word):\n",
        "    if pos_tag([word])[0][1].startswith('J'):\n",
        "        return wordnet.ADJ\n",
        "    if pos_tag([word])[0][1].startswith('V'):\n",
        "        return wordnet.VERB\n",
        "    if pos_tag([word])[0][1].startswith('N'):\n",
        "        return wordnet.NOUN\n",
        "    else:\n",
        "        return wordnet.NOUN\n",
        "    \n",
        "def normalise(word):\n",
        "    \"\"\"Normalises words to lowercase and stems and lemmatizes it.\"\"\"\n",
        "    word = word.lower()\n",
        "    postag = get_word_postag(word)\n",
        "    word = lemmatizer.lemmatize(word,postag)\n",
        "    return word\n",
        "\n",
        "def get_terms(tree):    \n",
        "    for leaf in leaves(tree):\n",
        "        terms = [normalise(w) for w,t in leaf]\n",
        "        yield terms\n"
      ],
      "execution_count": null,
      "outputs": []
    },
    {
      "cell_type": "code",
      "metadata": {
        "id": "yLnPDcFIiHXm",
        "colab_type": "code",
        "colab": {
          "base_uri": "https://localhost:8080/",
          "height": 190
        },
        "outputId": "8787c434-4671-493a-a4c3-32f07fd61967"
      },
      "source": [
        "import nltk\n",
        "nltk.download('punkt')\n",
        "nltk.download('averaged_perceptron_tagger')\n",
        "nltk.download('wordnet')\n",
        "xyz=[['iI believe choice world tell sad stories'],['i iwhere nothing messed cant fixed']]\n",
        "text_predicted=[]\n",
        "for i in range (len(list_text)):\n",
        "  s = list_text[i]\n",
        "  listToStr = ' '.join([str(elem) for elem in s])\n",
        "\n",
        "  document = listToStr\n",
        "  tokens = [nltk.word_tokenize(sent) for sent in [document]]\n",
        "  postag = [nltk.pos_tag(sent) for sent in tokens][0]\n",
        "\n",
        "\n",
        "# the result is a tree\n",
        "  tree = cp.parse(postag)\n",
        "  terms = get_terms(tree)\n",
        "\n",
        "  features = []\n",
        "  for term in terms:\n",
        "      _term = ''\n",
        "      for word in term:\n",
        "          _term += ' ' + word\n",
        "      features.append(_term.strip())\n",
        "  text_predicted.append(features)\n",
        "print(text_predicted)"
      ],
      "execution_count": null,
      "outputs": [
        {
          "output_type": "stream",
          "text": [
            "[nltk_data] Downloading package punkt to /root/nltk_data...\n",
            "[nltk_data]   Package punkt is already up-to-date!\n",
            "[nltk_data] Downloading package averaged_perceptron_tagger to\n",
            "[nltk_data]     /root/nltk_data...\n",
            "[nltk_data]   Package averaged_perceptron_tagger is already up-to-\n",
            "[nltk_data]       date!\n",
            "[nltk_data] Downloading package wordnet to /root/nltk_data...\n",
            "[nltk_data]   Package wordnet is already up-to-date!\n",
            "[['ii believe choice world', 'tell', 'sad story'], ['i ion', 'hand sugarcoat'], ['i', 'ithe', 'way movie romance novel'], ['i', 'beautiful people', 'learn', 'beautiful lesson'], ['i', 'nothing', 'mess', 'cant', 'fix'], ['i', 'iwith', 'apology peter gabriel song'], ['i ii', 'version', 'next girl doesi', 'ibelieve'], ['i iits', 'truth'], ['i', 'ithis', 'truth'], ['i', 'isorry'], ['i', 'ilate', 'winter seventeenth year'], ['i imy', 'mother', 'decide', 'depressed'], ['i', 'eats', 'bird', 'barely leaf', 'house'], ['depressed', 'mom'], ['shes', 'reading', 'book'], ['shes', 'depressed'], ['im', 'depressed'], ['ithe booklet', 'website', 'list depression asi ia side effect cancer'], ['i']]\n"
          ],
          "name": "stdout"
        }
      ]
    },
    {
      "cell_type": "markdown",
      "metadata": {
        "id": "feZSbAtQpKiO",
        "colab_type": "text"
      },
      "source": [
        "**10) now send the cleaned text file into model for predictions of sentiments**"
      ]
    },
    {
      "cell_type": "code",
      "metadata": {
        "id": "q3pp5JiLobmA",
        "colab_type": "code",
        "colab": {}
      },
      "source": [
        "import time\n",
        "array_emotions=[]\n",
        "for p in range(len(text_predicted)):\n",
        "\n",
        "   s = text_predicted[p] \n",
        "   listToStr = ' '.join([str(elem) for elem in s])\n",
        "\n",
        "   listToStr = ' '.join([str(elem) for elem in s])\n",
        "   message = [listToStr]\n",
        "    # print(type(message))\n",
        "    # print(message)\n",
        "   seq = tokenizer.texts_to_sequences(message)\n",
        "   padded = pad_sequences(seq, maxlen=max_seq_len)\n",
        "   start_time = time.time()\n",
        "   pred = modell.predict(padded)\n",
        "\n",
        "   print('Message: ' + str(message))\n",
        "   print('predicted: {} ({:.2f} seconds)'.format(class_names[np.argmax(pred)], (time.time() - start_time)))\n",
        "   v=np.argmax(pred)\n",
        "\n",
        "   z=class_names[v]\n",
        "   array_emotions.append(z)\n",
        "print(array_emotions)"
      ],
      "execution_count": null,
      "outputs": []
    },
    {
      "cell_type": "code",
      "metadata": {
        "id": "loFyWL2Qok5i",
        "colab_type": "code",
        "colab": {}
      },
      "source": [
        "joy_c=array_emotions.count(\"joy\")\n",
        "print(joy_c)\n",
        "neutral_c=array_emotions.count(\"neutral\")\n",
        "print(neutral_c)\n",
        "sad_c=array_emotions.count(\"sadness\")\n",
        "print(sad_c)\n",
        "angry_c=array_emotions.count(\"anger\")\n",
        "print(angry_c)\n",
        "fear_c=array_emotions.count(\"fear\")\n",
        "print(fear_c)"
      ],
      "execution_count": null,
      "outputs": []
    },
    {
      "cell_type": "markdown",
      "metadata": {
        "id": "AF47CMOWpbjq",
        "colab_type": "text"
      },
      "source": [
        "**11) graphical visualization of result**"
      ]
    },
    {
      "cell_type": "code",
      "metadata": {
        "id": "s9UTzRcsotmr",
        "colab_type": "code",
        "colab": {}
      },
      "source": [
        "import matplotlib.pyplot as plt\n",
        "from google.colab import files as fl\n",
        "# Data to plot\n",
        "labels = 'joy', 'neutral', 'sadness', 'anger','fear'\n",
        "sizes = [joy_c, neutral_c, sad_c, angry_c,fear_c]\n",
        "colors = ['gold', 'yellowgreen', 'lightcoral', 'lightskyblue','red']\n",
        "patches, texts = plt.pie(sizes, colors=colors, shadow=True, startangle=90)\n",
        "plt.legend(patches, labels, loc=\"best\")\n",
        "plt.axis('equal')\n",
        "plt.tight_layout()\n",
        "plt.show()\n",
        "plt.savefig(\"graph1.jpeg\")\n",
        "fl.download(\"graph1.jpeg\")"
      ],
      "execution_count": null,
      "outputs": []
    }
  ]
}